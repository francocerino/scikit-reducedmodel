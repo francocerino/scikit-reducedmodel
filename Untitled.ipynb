{
 "cells": [
  {
   "cell_type": "code",
   "execution_count": 1,
   "id": "5c86383a-1a4c-4366-9a30-d6d570d8ee43",
   "metadata": {},
   "outputs": [
    {
     "name": "stdout",
     "output_type": "stream",
     "text": [
      "%pylab is deprecated, use %matplotlib inline and import the required libraries.\n",
      "Populating the interactive namespace from numpy and matplotlib\n"
     ]
    }
   ],
   "source": [
    "%pylab inline\n",
    "#from skreducedmodel.reducedbasis import select_child_node\n",
    "from skreducedmodel.reducedbasis import visual_tree"
   ]
  },
  {
   "cell_type": "code",
   "execution_count": 2,
   "id": "2330562f-c5d8-431b-87d7-ae447bf9c50e",
   "metadata": {},
   "outputs": [],
   "source": [
    "class Node:\n",
    "        def __init__(self, name, idx_anchor_0, idx_anchor_1, train_parameters, children):\n",
    "            self.name = name\n",
    "            self.idx_anchor_0 = idx_anchor_0\n",
    "            self.idx_anchor_1 = idx_anchor_1\n",
    "            self.train_parameters = train_parameters\n",
    "            self.children = children"
   ]
  },
  {
   "cell_type": "code",
   "execution_count": 3,
   "id": "73073948-9589-4e02-800d-a36674f401b5",
   "metadata": {},
   "outputs": [],
   "source": [
    "def test_select_child_node():\n",
    "    seed = 12345\n",
    "    rng = np.random.default_rng(seed)\n",
    "\n",
    "    class Node:\n",
    "        def __init__(self, name, idx_anchor_0, idx_anchor_1, train_parameters, children):\n",
    "            self.name = name\n",
    "            self.idx_anchor_0 = idx_anchor_0\n",
    "            self.idx_anchor_1 = idx_anchor_1\n",
    "            self.train_parameters = train_parameters\n",
    "            self.children = children\n",
    "\n",
    "    node1 = Node(\"1\", 0, 1, np.array([[0,0],[1,0],[0,1]]), \n",
    "            [Node(\"10\", 0, 2, np.array([[0,0],[0,1]]), []), \n",
    "            Node(\"11\", 1, 2, np.array([[1,0],[0,1]]), [])])\n",
    "    node2 = Node(\"2\", 0, 2, np.array([[0,0],[0,1],[1,1]]), \n",
    "            [Node(\"20\", 0, 1, np.array([[0,0],[1,1]]), []), \n",
    "            Node(\"21\", 1, 2, np.array([[0,1],[1,1]]), [])])\n",
    "    \n",
    "    # Test 1: Distancia de parameter a anchor_0 es menor que a anchor_1\n",
    "    parameter = np.array([0.5,0.5])\n",
    "    expected_child = node1.children[0]\n",
    "    result = select_child_node(parameter, node1)\n",
    "    assert result == expected_child, f\"Expected {expected_child}, but got {result}\""
   ]
  },
  {
   "cell_type": "code",
   "execution_count": 4,
   "id": "08ec35c2-9603-4063-bd99-7457e816fb77",
   "metadata": {},
   "outputs": [],
   "source": [
    "def select_child_node(parameter, node):\n",
    "\n",
    "    # [fc] refactorizar. que sea más simple\n",
    "    # node : se da la raiz del arbol binario para realizar la evaluación.\n",
    "    # parameter : parámetro a evaluar por el modelo sustituto de un subespacio.\n",
    "\n",
    "    seed = 12345\n",
    "    rng = np.random.default_rng(seed)\n",
    "    anchor_0 = node.train_parameters[node.idx_anchor_0]\n",
    "    anchor_1 = node.train_parameters[node.idx_anchor_1]\n",
    "\n",
    "    dist_anchor_0 = np.linalg.norm(anchor_0 - parameter)  # 2-norm.\n",
    "    dist_anchor_1 = np.linalg.norm(anchor_1 - parameter)\n",
    "\n",
    "    if dist_anchor_0 < dist_anchor_1:\n",
    "        print('dist_anchor_0 < dist_anchor_1')\n",
    "        if node.children[0].name[-1] == 0:\n",
    "            child = node.children[0]\n",
    "        else:\n",
    "            child = node.children[1]\n",
    "    elif dist_anchor_0 > dist_anchor_1:\n",
    "        print('dist_anchor_0 > dist_anchor_1')\n",
    "        if node.children[0].name[-1] == 1:\n",
    "            child = node.children[0]\n",
    "        else:\n",
    "            child = node.children[1]\n",
    "    else:\n",
    "        # para distancias iguales se realiza una elección aleatoria.\n",
    "        if rng.integers(2):\n",
    "            child = node.children[0]\n",
    "        else:\n",
    "            child = node.children[1]\n",
    "    return child"
   ]
  },
  {
   "cell_type": "code",
   "execution_count": 37,
   "id": "7245cb82-a823-47eb-b6ab-5723bba0964d",
   "metadata": {},
   "outputs": [
    {
     "data": {
      "text/plain": [
       "1"
      ]
     },
     "execution_count": 37,
     "metadata": {},
     "output_type": "execute_result"
    }
   ],
   "source": [
    "#### Eso es aleatorio ?? \n",
    "seed = 12345\n",
    "rng = np.random.default_rng(seed)\n",
    "rng.integers(2)"
   ]
  },
  {
   "cell_type": "code",
   "execution_count": 42,
   "id": "955fbb1a-94c2-4115-bcfc-926e0037a81b",
   "metadata": {},
   "outputs": [],
   "source": [
    "node = Node(\"1\", 0, 1, np.array([[0,0],[1,0],[0,1]]), \n",
    "            [Node(\"10\", 0, 2, np.array([[0,0],[0,1]]), []), \n",
    "            Node(\"11\", 1, 2, np.array([[1,0],[0,1]]), [])])"
   ]
  },
  {
   "cell_type": "code",
   "execution_count": 45,
   "id": "898424d7-1d85-497b-922f-d40c6989e106",
   "metadata": {},
   "outputs": [
    {
     "data": {
      "text/plain": [
       "array([0, 1])"
      ]
     },
     "execution_count": 45,
     "metadata": {},
     "output_type": "execute_result"
    }
   ],
   "source": [
    "node.train_parameters[2]"
   ]
  },
  {
   "cell_type": "code",
   "execution_count": 46,
   "id": "807277c7-4fd3-42fd-a04d-a12c7f6b4a5b",
   "metadata": {},
   "outputs": [],
   "source": [
    "anchor_0 = node.train_parameters[node.idx_anchor_0]\n",
    "anchor_1 = node.train_parameters[node.idx_anchor_1]"
   ]
  },
  {
   "cell_type": "code",
   "execution_count": 47,
   "id": "796ffcb4-ea12-4664-8c33-e4c562141120",
   "metadata": {},
   "outputs": [
    {
     "name": "stdout",
     "output_type": "stream",
     "text": [
      "[0 0] [1 0]\n"
     ]
    }
   ],
   "source": [
    "print(anchor_0,anchor_1)"
   ]
  },
  {
   "cell_type": "code",
   "execution_count": 48,
   "id": "1a6490eb-1aa7-4060-8b17-37555aa3322a",
   "metadata": {},
   "outputs": [
    {
     "name": "stdout",
     "output_type": "stream",
     "text": [
      "0.5385164807134505 0.9433981132056605\n"
     ]
    }
   ],
   "source": [
    "parameter = np.array([0.2,0.5])\n",
    "dist_anchor_0 = np.linalg.norm(anchor_0 - parameter)  # 2-norm.\n",
    "dist_anchor_1 = np.linalg.norm(anchor_1 - parameter)\n",
    "print(dist_anchor_0,dist_anchor_1)"
   ]
  },
  {
   "cell_type": "code",
   "execution_count": 49,
   "id": "64d5becb-6dc0-4dc8-9b54-4080b5f0d43f",
   "metadata": {},
   "outputs": [
    {
     "name": "stdout",
     "output_type": "stream",
     "text": [
      "0.5385164807134505 0.9433981132056605\n",
      "dist_anchor_0 < dist_anchor_1\n"
     ]
    }
   ],
   "source": [
    "# Test 1: Distancia de parameter a anchor_0 es menor que a anchor_1\n",
    "parameter = np.array([0.2,0.5])\n",
    "\n",
    "dist_anchor_0 = np.linalg.norm(anchor_0 - parameter)  # 2-norm.\n",
    "dist_anchor_1 = np.linalg.norm(anchor_1 - parameter)\n",
    "print(dist_anchor_0,dist_anchor_1)\n",
    "\n",
    "expected_child = node.children[1]\n",
    "result = select_child_node(parameter, node)\n",
    "assert result == expected_child, f\"Expected {expected_child}, but got {result}\""
   ]
  },
  {
   "cell_type": "code",
   "execution_count": null,
   "id": "42258b8c-fcee-4156-bb62-e5f3ee282fd6",
   "metadata": {},
   "outputs": [],
   "source": []
  },
  {
   "cell_type": "code",
   "execution_count": null,
   "id": "f2674590-c345-4603-819c-07873bc91a45",
   "metadata": {},
   "outputs": [],
   "source": []
  },
  {
   "cell_type": "code",
   "execution_count": null,
   "id": "24ec2a2d-f51e-4c9c-a402-c5be96606085",
   "metadata": {},
   "outputs": [],
   "source": []
  },
  {
   "cell_type": "code",
   "execution_count": 22,
   "id": "afeff8b5-da6f-4056-be71-a9110aecf793",
   "metadata": {},
   "outputs": [
    {
     "data": {
      "text/plain": [
       "'10'"
      ]
     },
     "execution_count": 22,
     "metadata": {},
     "output_type": "execute_result"
    }
   ],
   "source": [
    "node.children[0].name"
   ]
  },
  {
   "cell_type": "code",
   "execution_count": null,
   "id": "670c22e7-5d75-4acb-bfcb-c6e177faf0ac",
   "metadata": {},
   "outputs": [],
   "source": []
  },
  {
   "cell_type": "code",
   "execution_count": 64,
   "id": "0adac7b1-ff10-41a8-8dab-85e67b804c05",
   "metadata": {},
   "outputs": [
    {
     "data": {
      "text/plain": [
       "<__main__.Node at 0x7f5b52e52bc0>"
      ]
     },
     "execution_count": 64,
     "metadata": {},
     "output_type": "execute_result"
    }
   ],
   "source": [
    "node.children[1]"
   ]
  },
  {
   "cell_type": "code",
   "execution_count": 63,
   "id": "6fede5c3-6899-4a15-9f5d-1091c1b3a220",
   "metadata": {},
   "outputs": [
    {
     "data": {
      "text/plain": [
       "<__main__.Node at 0x7f5b52f5a2f0>"
      ]
     },
     "execution_count": 63,
     "metadata": {},
     "output_type": "execute_result"
    }
   ],
   "source": [
    "result"
   ]
  },
  {
   "cell_type": "code",
   "execution_count": 42,
   "id": "a06115ba-91b2-4702-a443-75e134e9f58f",
   "metadata": {},
   "outputs": [
    {
     "name": "stdout",
     "output_type": "stream",
     "text": [
      "0.8602325267042626 0.5830951894845301\n"
     ]
    }
   ],
   "source": [
    "# Test 2: Distancia de parameter a anchor_0 es mayor que a anchor_1\n",
    "parameter = np.array([0.7,0.5])\n",
    "dist_anchor_0 = np.linalg.norm(anchor_0 - parameter)  # 2-norm.\n",
    "dist_anchor_1 = np.linalg.norm(anchor_1 - parameter)\n",
    "print(dist_anchor_0,dist_anchor_1)"
   ]
  }
 ],
 "metadata": {
  "kernelspec": {
   "display_name": "Python 3 (ipykernel)",
   "language": "python",
   "name": "python3"
  },
  "language_info": {
   "codemirror_mode": {
    "name": "ipython",
    "version": 3
   },
   "file_extension": ".py",
   "mimetype": "text/x-python",
   "name": "python",
   "nbconvert_exporter": "python",
   "pygments_lexer": "ipython3",
   "version": "3.10.6"
  }
 },
 "nbformat": 4,
 "nbformat_minor": 5
}
