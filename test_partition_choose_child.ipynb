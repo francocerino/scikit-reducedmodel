{
 "cells": [
  {
   "cell_type": "code",
   "execution_count": 1,
   "id": "ed555130-e846-41cf-bd24-43ac602ade5f",
   "metadata": {},
   "outputs": [
    {
     "name": "stdout",
     "output_type": "stream",
     "text": [
      "Python 3.10.8\n"
     ]
    }
   ],
   "source": [
    "!python --version"
   ]
  },
  {
   "cell_type": "markdown",
   "id": "1e13529d-036a-4c9d-baad-c2cdb7f38bce",
   "metadata": {},
   "source": [
    "previous config to the test:"
   ]
  },
  {
   "cell_type": "code",
   "execution_count": 2,
   "id": "2b03430f-8fa1-4ea4-98ff-530d98e5fa0c",
   "metadata": {},
   "outputs": [],
   "source": [
    "#autoreload permite que jupyter vea las modif de los script de forma automática\n",
    "%load_ext autoreload\n",
    "%autoreload 2"
   ]
  },
  {
   "cell_type": "code",
   "execution_count": 3,
   "id": "a1bddf75-15e0-4be4-a2aa-6c9b02f5e07f",
   "metadata": {},
   "outputs": [],
   "source": [
    "import numpy as np\n",
    "from scipy.integrate import odeint"
   ]
  },
  {
   "cell_type": "code",
   "execution_count": 4,
   "id": "135d51bf-585e-47d1-b51b-c846baf1a03e",
   "metadata": {},
   "outputs": [],
   "source": [
    "def pend(y, t, b, λ):\n",
    "    θ, ω = y\n",
    "    dydt = [ω, -b * ω - λ * np.sin(θ)]\n",
    "\n",
    "    return dydt"
   ]
  },
  {
   "cell_type": "code",
   "execution_count": 5,
   "id": "7a45cfb9-43fc-4f1d-9424-e7a38aa8da75",
   "metadata": {},
   "outputs": [],
   "source": [
    "from skreducedmodel.reducedbasis import select_child_node"
   ]
  },
  {
   "cell_type": "markdown",
   "id": "07689bca-1592-477f-a5f0-f801618557b4",
   "metadata": {},
   "source": [
    "----"
   ]
  },
  {
   "cell_type": "markdown",
   "id": "b48f5ca2-befd-42e3-9b91-deab211b611c",
   "metadata": {},
   "source": [
    "test config and run:"
   ]
  },
  {
   "cell_type": "code",
   "execution_count": 6,
   "id": "da14a06c-d817-48e1-bd5b-9695e41387e8",
   "metadata": {},
   "outputs": [],
   "source": [
    "b = 0.2\n",
    "y0 = [np.pi / 2, 0.0]\n",
    "\n",
    "train_parameters = np.linspace(1, 5, 101)\n",
    "test_parameters = np.linspace(1, 5, 100)[1:-1]\n",
    "\n",
    "times = np.linspace(0, 50, 1001)\n",
    "\n",
    "training_set = []\n",
    "for λ in train_parameters:\n",
    "    sol = odeint(pend, y0, times, (b, λ))\n",
    "    training_set.append(sol[:, 0])\n",
    "training_set = np.array(training_set)\n",
    "\n",
    "test_set = []\n",
    "for λ in test_parameters:\n",
    "    sol = odeint(pend, y0, times, (b, λ))\n",
    "    test_set.append(sol[:, 0])\n",
    "test_set = np.array(test_set)"
   ]
  },
  {
   "cell_type": "code",
   "execution_count": 7,
   "id": "ecd517f5-dbb4-42d7-9f8a-75268303637a",
   "metadata": {},
   "outputs": [],
   "source": [
    "from skreducedmodel.reducedbasis import ReducedBasis\n",
    "\n",
    "nmax = 5\n",
    "\n",
    "model = ReducedBasis(index_seed_global_rb=0,\n",
    "                     greedy_tol=1e-16,\n",
    "                     lmax=1,\n",
    "                     nmax=nmax,\n",
    "                     normalize=True\n",
    "                    )\n",
    "\n",
    "model.fit(training_set=training_set,\n",
    "          parameters=train_parameters,\n",
    "          physical_points=times\n",
    "         )"
   ]
  },
  {
   "cell_type": "code",
   "execution_count": 8,
   "id": "187a0df3-38f7-4fb4-963c-054343187e7e",
   "metadata": {},
   "outputs": [],
   "source": [
    "from skreducedmodel.reducedbasis import normalize_set, error\n",
    "\n",
    "# normalizamos el conjunto de ondas de testeo\n",
    "test_set_normalized = normalize_set(test_set, times)\n",
    "\n",
    "errors = []\n",
    "for h, q in zip(test_set_normalized, test_parameters):\n",
    "    # calculamos la proyección de las ondas con el modelo hp-greedy\n",
    "    ht = model.transform(h,q)\n",
    "    # calculamos el error para la proyección\n",
    "    errors.append(error(h, ht, times))"
   ]
  },
  {
   "cell_type": "code",
   "execution_count": 11,
   "id": "b5924947-6db8-49fd-a070-5d67159e8005",
   "metadata": {},
   "outputs": [
    {
     "data": {
      "text/plain": [
       "1"
      ]
     },
     "execution_count": 11,
     "metadata": {},
     "output_type": "execute_result"
    }
   ],
   "source": [
    "model.tree.height"
   ]
  },
  {
   "cell_type": "code",
   "execution_count": 12,
   "id": "4dd1f0af-a0fb-41ee-b123-defe5b3f522a",
   "metadata": {},
   "outputs": [
    {
     "data": {
      "text/plain": [
       "(1.0, 0)"
      ]
     },
     "execution_count": 12,
     "metadata": {},
     "output_type": "execute_result"
    }
   ],
   "source": [
    "node = model.tree\n",
    "node.train_parameters[node.idx_anchor_0],node.idx_anchor_0"
   ]
  },
  {
   "cell_type": "code",
   "execution_count": 13,
   "id": "885c0411-86e4-4b80-8503-a10c17c96988",
   "metadata": {},
   "outputs": [
    {
     "data": {
      "text/plain": [
       "(5.0, 100)"
      ]
     },
     "execution_count": 13,
     "metadata": {},
     "output_type": "execute_result"
    }
   ],
   "source": [
    "node.train_parameters[node.idx_anchor_1],node.idx_anchor_1"
   ]
  },
  {
   "cell_type": "code",
   "execution_count": 21,
   "id": "635b27f8-7e8d-4c96-ad1d-23c2be91af30",
   "metadata": {},
   "outputs": [],
   "source": [
    "test_parameters_ones = np.ones(5)*3\n",
    "times = np.linspace(0, 50, 1001)\n",
    "\n",
    "test_set_ones = []\n",
    "for λ in test_parameters_ones:\n",
    "    sol = odeint(pend, y0, times, (b, λ))\n",
    "    test_set_ones.append(sol[:, 0])\n",
    "test_set_ones = np.array(test_set_ones)"
   ]
  },
  {
   "cell_type": "code",
   "execution_count": 39,
   "id": "a50cbecf-ae0f-4753-826d-bba37b436244",
   "metadata": {},
   "outputs": [
    {
     "name": "stdout",
     "output_type": "stream",
     "text": [
      "node name (0, 1)\n"
     ]
    },
    {
     "data": {
      "text/plain": [
       "array([[ 1.55108277,  1.54736984,  1.53628049, ..., -0.00752865,\n",
       "        -0.00690791, -0.00624157],\n",
       "       [ 1.55108277,  1.54736984,  1.53628049, ..., -0.00752865,\n",
       "        -0.00690791, -0.00624157],\n",
       "       [ 1.55108277,  1.54736984,  1.53628049, ..., -0.00752865,\n",
       "        -0.00690791, -0.00624157],\n",
       "       [ 1.55108277,  1.54736984,  1.53628049, ..., -0.00752865,\n",
       "        -0.00690791, -0.00624157],\n",
       "       [ 1.55108277,  1.54736984,  1.53628049, ..., -0.00752865,\n",
       "        -0.00690791, -0.00624157]])"
      ]
     },
     "execution_count": 39,
     "metadata": {},
     "output_type": "execute_result"
    }
   ],
   "source": [
    "model.transform(test_set_ones, test_parameters_ones)"
   ]
  },
  {
   "cell_type": "code",
   "execution_count": 42,
   "id": "f349379c-0b5f-4f48-bd52-bb9d6e5aa240",
   "metadata": {},
   "outputs": [
    {
     "name": "stdout",
     "output_type": "stream",
     "text": [
      "node name (0, 0)\n",
      "[ 1.57079633  1.56705879  1.55589593 ... -0.0099507  -0.00975695\n",
      " -0.00949237]\n",
      "node name (0, 0)\n",
      "[ 1.57079633  1.56705879  1.55589593 ... -0.0099507  -0.00975695\n",
      " -0.00949237]\n",
      "node name (0, 1)\n",
      "[ 1.55108277  1.54736984  1.53628049 ... -0.00752865 -0.00690791\n",
      " -0.00624157]\n",
      "node name (0, 0)\n",
      "[ 1.57079633  1.56705879  1.55589593 ... -0.0099507  -0.00975695\n",
      " -0.00949237]\n",
      "node name (0, 1)\n",
      "[ 1.55108277  1.54736984  1.53628049 ... -0.00752865 -0.00690791\n",
      " -0.00624157]\n"
     ]
    }
   ],
   "source": [
    "for sample, parameter in zip(test_set_ones, test_parameters_ones):\n",
    "    print(model.transform(sample, parameter))"
   ]
  },
  {
   "cell_type": "markdown",
   "id": "440f1618-2c3c-4936-903f-57a1087e753a",
   "metadata": {},
   "source": [
    "los dos metodos de arriba dan diferente (evaluan en rb diferentes)"
   ]
  },
  {
   "cell_type": "markdown",
   "id": "9421f095-bbe2-4f71-a235-f54ddb142255",
   "metadata": {},
   "source": [
    "reiniciar las evaluaciones de una forma limpia?\n",
    "\n",
    "ie: como controlo reiniciar la semilla con la cual elijo para que lado va la onda de test?"
   ]
  },
  {
   "cell_type": "markdown",
   "id": "6812b29f-98e5-421e-a83b-f175b0b556e3",
   "metadata": {},
   "source": [
    "diferencias entre las ultimas dos formas"
   ]
  },
  {
   "cell_type": "markdown",
   "id": "9a7ff420-ec4f-42c3-b253-a7f82e692c77",
   "metadata": {},
   "source": [
    "mejor transform que reciba una lista de las ondas a evaluar?"
   ]
  },
  {
   "cell_type": "code",
   "execution_count": null,
   "id": "83157837-829d-4d71-b3b6-b51bb798a37d",
   "metadata": {},
   "outputs": [],
   "source": []
  }
 ],
 "metadata": {
  "kernelspec": {
   "display_name": "Python 3 (ipykernel)",
   "language": "python",
   "name": "python3"
  },
  "language_info": {
   "codemirror_mode": {
    "name": "ipython",
    "version": 3
   },
   "file_extension": ".py",
   "mimetype": "text/x-python",
   "name": "python",
   "nbconvert_exporter": "python",
   "pygments_lexer": "ipython3",
   "version": "3.10.9"
  }
 },
 "nbformat": 4,
 "nbformat_minor": 5
}
